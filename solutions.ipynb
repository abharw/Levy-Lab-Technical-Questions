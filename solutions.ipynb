{
 "cells": [
  {
   "attachments": {},
   "cell_type": "markdown",
   "metadata": {},
   "source": [
    "### Arav Bhardwaj"
   ]
  },
  {
   "attachments": {},
   "cell_type": "markdown",
   "metadata": {},
   "source": [
    "**1A Solution** "
   ]
  },
  {
   "cell_type": "code",
   "execution_count": 1,
   "metadata": {},
   "outputs": [
    {
     "name": "stdout",
     "output_type": "stream",
     "text": [
      "Length: 10, Mean: 5.896122225000001, Stdev: 1.881867777738248\n"
     ]
    }
   ],
   "source": [
    "from math import sqrt\n",
    "data = [5.99342831, 4.7234714 , \n",
    "        6.29537708, 8.04605971, \n",
    "        4.53169325, 4.53172609, \n",
    "        8.15842563, 6.53486946, \n",
    "        4.06105123, 6.08512009]\n",
    "\n",
    "\n",
    "def analyze(data):\n",
    "    length = len(data)\n",
    "    mean = sum(data) / length\n",
    "    stdev = sum([(n - mean) ** 2 for n in data]) / length\n",
    "    return length, mean, stdev\n",
    "\n",
    "length, mean, stdev = analyze(data)\n",
    "print(f'Length: {length}, Mean: {mean}, Stdev: {stdev}')"
   ]
  },
  {
   "attachments": {},
   "cell_type": "markdown",
   "metadata": {},
   "source": [
    "**1B Solution**"
   ]
  },
  {
   "cell_type": "code",
   "execution_count": 100,
   "metadata": {},
   "outputs": [
    {
     "name": "stdout",
     "output_type": "stream",
     "text": [
      "Bad\n"
     ]
    }
   ],
   "source": [
    "def t_test(data, threshold):\n",
    "    length, mean, stdev = analyze(data)\n",
    "    moe = (2.26216 * stdev) / sqrt(length)\n",
    "    upper_limit = mean + moe\n",
    "    lower_limit = mean - moe \n",
    "    flag = 'Good' if upper_limit <= threshold <= lower_limit else 'Bad'\n",
    "    return flag\n",
    "\n",
    "flag = t_test(data, 4)\n",
    "print(flag)"
   ]
  },
  {
   "attachments": {},
   "cell_type": "markdown",
   "metadata": {},
   "source": [
    "**1C Solution**"
   ]
  },
  {
   "cell_type": "code",
   "execution_count": 176,
   "metadata": {},
   "outputs": [
    {
     "name": "stdout",
     "output_type": "stream",
     "text": [
      "['Bad', 'Bad', 'Bad', 'Bad', 'Bad', 'Bad', 'Bad', 'Bad']\n"
     ]
    }
   ],
   "source": [
    "import pandas as pd\n",
    "class GeneTest():\n",
    "    def __init__(self, csv_path):\n",
    "        self.df = pd.read_csv(csv_path, header=None)\n",
    "        self.df = self.df.drop(self.df.columns[0], axis=1)\n",
    "        self.df = self.df.iloc[1:] \n",
    "    \n",
    "    def get_df(self):\n",
    "        return self.df \n",
    "    \n",
    "    def gene_t_test(self, data, threshold = 4):\n",
    "        length, mean, stdev = analyze(self.df)\n",
    "        print(length)\n",
    "        moe = (2.26216 * stdev) / sqrt(length)\n",
    "        upper_limit = mean + moe\n",
    "        lower_limit = mean - moe \n",
    "        flag = 'Good' if upper_limit >= threshold and threshold <= lower_limit else 'Bad'\n",
    "        return flag\n",
    "    \n",
    "    def testData(self):\n",
    "        lst = []\n",
    "        for _, row in self.df.iterrows():\n",
    "            row = [float(x) for x in row]\n",
    "            lst.append(t_test(row, 4))\n",
    "        return lst\n",
    "gene_test = GeneTest(r'/Users/abharw/Desktop/Levy Lab/technical_data/1_c_d.csv')\n",
    "df2 = gene_test.testData()\n",
    "print(df2)"
   ]
  },
  {
   "attachments": {},
   "cell_type": "markdown",
   "metadata": {},
   "source": [
    "**1D Solution**"
   ]
  },
  {
   "cell_type": "code",
   "execution_count": 177,
   "metadata": {},
   "outputs": [
    {
     "data": {
      "image/png": "[encoded data removed]",
      "text/plain": [
       "<Figure size 640x480 with 1 Axes>"
      ]
     },
     "metadata": {},
     "output_type": "display_data"
    }
   ],
   "source": [
    "import matplotlib.pyplot as plt \n",
    "%matplotlib inline \n",
    "\n",
    "def scatterplot(lst1, lst2):\n",
    "    plt.scatter(lst1, lst2)\n",
    "    plt.xticks([])  # turn off ticks\n",
    "    plt.yticks([])  \n",
    "\n",
    "gene_df = GeneTest(r'/Users/abharw/Desktop/Levy Lab/technical_data/1_c_d.csv')  \n",
    "gene_plot = gene_df.get_df()\n",
    "scatterplot(gene_plot.iloc[0], gene_plot.iloc[1])"
   ]
  },
  {
   "attachments": {},
   "cell_type": "markdown",
   "metadata": {},
   "source": [
    "**2D Solution**"
   ]
  },
  {
   "cell_type": "code",
   "execution_count": 188,
   "metadata": {},
   "outputs": [],
   "source": [
    "import torch \n",
    "import numpy as np \n",
    "import torch.nn as nn \n",
    "import torch.optim as optim \n",
    "import torch.nn.functional as F\n",
    "from torchvision import datasets, transforms\n",
    "from tqdm import tqdm \n",
    "\n",
    "# convert to tensor values and normalize  mean and std\n",
    "transform = transforms.Compose([transforms.ToTensor(), transforms.Normalize((.5,), (.5),)]) \n",
    "\n",
    "# load datasets\n",
    "train = datasets.FashionMNIST('./F_MNIST', download = True, train = True, transform = transform)\n",
    "test = datasets.FashionMNIST('./F_MNIST', download = True, train = False, transform = transform)\n",
    "\n",
    "train_loader = torch.utils.data.DataLoader(train, shuffle = True, batch_size = 64)\n",
    "test_loader = torch.utils.data.DataLoader(test, shuffle = True, batch_size = 64)\n",
    "\n",
    "# network architecture\n",
    "class Net(nn.Module):\n",
    "    def __init__(self):\n",
    "        super().__init__()\n",
    "        self.fc1 = nn.Linear(784, 256)\n",
    "        self.fc2 = nn.Linear(256, 128)\n",
    "        self.fc3 = nn.Linear(128, 64)\n",
    "        self.fc4 = nn.Linear(64, 10)\n",
    "    \n",
    "    def forward(self, x):\n",
    "        x = x.view(x.shape[0], -1)\n",
    "        x = F.relu(self.fc1(x))\n",
    "        x = F.relu(self.fc2(x))\n",
    "        x = F.relu(self.fc3(x))\n",
    "        x = F.relu(self.fc4(x))\n",
    "        x = F.log_softmax(x, dim=1)\n",
    "        return x\n",
    "\n",
    "net = Net()\n",
    "criterion = nn.NLLLoss()\n",
    "optimizer = torch.optim.Adam(net.parameters(), lr=0.01)"
   ]
  },
  {
   "cell_type": "code",
   "execution_count": 190,
   "metadata": {},
   "outputs": [],
   "source": [
    "def fit(model, train_loader):\n",
    "    model.train()\n",
    "    train_running_loss = 0.0; train_running_correct = 0\n",
    "    for data in tqdm(train_loader):\n",
    "        inputs, labels = data\n",
    "        optimizer.zero_grad()\n",
    "        output = model(inputs)\n",
    "        loss = criterion(output, labels)\n",
    "\n",
    "        train_running_loss += loss.item()\n",
    "        _, preds = torch.max(output.data, 1)\n",
    "        train_running_correct += (preds == labels).sum().item()\n",
    "        loss.backward()\n",
    "        optimizer.step()\n",
    "        \n",
    "    train_loss = train_running_loss / len(train_loader.dataset)\n",
    "    train_accuracy = 100. * train_running_correct / len(train_loader.dataset)\n",
    "    \n",
    "    print(f'Train Loss: {train_loss:.4f}, Train Accuracy: {train_accuracy:.2f}')\n",
    "\n",
    "    return train_loss, train_accuracy\n"
   ]
  },
  {
   "cell_type": "code",
   "execution_count": null,
   "metadata": {},
   "outputs": [],
   "source": [
    "def validate(model, test_loader):\n",
    "    model.eval()\n",
    "    val_running_loss = 0.0; val_running_correct = 0\n",
    "    for data in tqdm(test_loader):\n",
    "        inputs, labels = data\n",
    "        output = model(inputs)\n",
    "        loss = criterion(output, labels)\n",
    "        \n",
    "        val_running_loss += loss.item()\n",
    "        _, preds = torch.max(output.data, 1)\n",
    "        val_running_correct += (preds == labels).sum().item()\n",
    "        \n",
    "    val_loss = val_running_loss / len(test_loader.dataset)\n",
    "    val_accuracy = 100. * val_running_correct / len(test_loader.dataset)\n",
    "    \n",
    "    print(f'Validation Loss: {val_loss:.4f}, Validation Accuracy: {val_accuracy:.2f}')\n",
    "\n",
    "    return val_loss, val_accuracy"
   ]
  },
  {
   "cell_type": "code",
   "execution_count": 189,
   "metadata": {},
   "outputs": [
    {
     "name": "stdout",
     "output_type": "stream",
     "text": [
      "Epoch 1\n"
     ]
    },
    {
     "name": "stderr",
     "output_type": "stream",
     "text": [
      "100%|██████████| 938/938 [00:03<00:00, 278.35it/s]\n"
     ]
    },
    {
     "name": "stdout",
     "output_type": "stream",
     "text": [
      "Train Loss: 0.0187, Train Accuracy: 56.97\n"
     ]
    },
    {
     "name": "stderr",
     "output_type": "stream",
     "text": [
      "100%|██████████| 938/938 [00:02<00:00, 419.94it/s]\n"
     ]
    },
    {
     "name": "stdout",
     "output_type": "stream",
     "text": [
      "Validation Loss: 0.0147, Validation Accuracy: 64.70\n",
      "Epoch 2\n"
     ]
    },
    {
     "name": "stderr",
     "output_type": "stream",
     "text": [
      "100%|██████████| 938/938 [00:03<00:00, 291.50it/s]\n"
     ]
    },
    {
     "name": "stdout",
     "output_type": "stream",
     "text": [
      "Train Loss: 0.0141, Train Accuracy: 65.50\n"
     ]
    },
    {
     "name": "stderr",
     "output_type": "stream",
     "text": [
      "100%|██████████| 938/938 [00:02<00:00, 412.38it/s]\n"
     ]
    },
    {
     "name": "stdout",
     "output_type": "stream",
     "text": [
      "Validation Loss: 0.0133, Validation Accuracy: 66.94\n",
      "Epoch 3\n"
     ]
    },
    {
     "name": "stderr",
     "output_type": "stream",
     "text": [
      "100%|██████████| 938/938 [00:03<00:00, 292.59it/s]\n"
     ]
    },
    {
     "name": "stdout",
     "output_type": "stream",
     "text": [
      "Train Loss: 0.0138, Train Accuracy: 66.04\n"
     ]
    },
    {
     "name": "stderr",
     "output_type": "stream",
     "text": [
      "100%|██████████| 938/938 [00:02<00:00, 415.93it/s]\n"
     ]
    },
    {
     "name": "stdout",
     "output_type": "stream",
     "text": [
      "Validation Loss: 0.0136, Validation Accuracy: 67.00\n",
      "Epoch 4\n"
     ]
    },
    {
     "name": "stderr",
     "output_type": "stream",
     "text": [
      "100%|██████████| 938/938 [00:03<00:00, 271.21it/s]\n"
     ]
    },
    {
     "name": "stdout",
     "output_type": "stream",
     "text": [
      "Train Loss: 0.0136, Train Accuracy: 66.70\n"
     ]
    },
    {
     "name": "stderr",
     "output_type": "stream",
     "text": [
      "100%|██████████| 938/938 [00:02<00:00, 395.93it/s]\n"
     ]
    },
    {
     "name": "stdout",
     "output_type": "stream",
     "text": [
      "Validation Loss: 0.0141, Validation Accuracy: 65.45\n",
      "Epoch 5\n"
     ]
    },
    {
     "name": "stderr",
     "output_type": "stream",
     "text": [
      "100%|██████████| 938/938 [00:03<00:00, 270.25it/s]\n"
     ]
    },
    {
     "name": "stdout",
     "output_type": "stream",
     "text": [
      "Train Loss: 0.0134, Train Accuracy: 66.86\n"
     ]
    },
    {
     "name": "stderr",
     "output_type": "stream",
     "text": [
      "100%|██████████| 938/938 [00:02<00:00, 405.59it/s]"
     ]
    },
    {
     "name": "stdout",
     "output_type": "stream",
     "text": [
      "Validation Loss: 0.0138, Validation Accuracy: 67.32\n"
     ]
    },
    {
     "name": "stderr",
     "output_type": "stream",
     "text": [
      "\n"
     ]
    }
   ],
   "source": [
    "train_loss, train_acc = [], []\n",
    "val_loss, val_acc, = [], []\n",
    "\n",
    "for epoch in range(5):\n",
    "    print(f'Epoch {epoch + 1}')\n",
    "    train_epoch_loss, train_epoch_acc = fit(net, train_loader)\n",
    "    val_epoch_loss, val_epoch_acc = validate(net, train_loader)\n",
    "    train_loss.append(train_epoch_loss); train_acc.append(train_epoch_acc)\n",
    "    val_loss.append(val_epoch_loss); val_acc.append(val_epoch_acc)"
   ]
  },
  {
   "cell_type": "code",
   "execution_count": 191,
   "metadata": {},
   "outputs": [
    {
     "data": {
      "image/png": "[encoded data removed]",
      "text/plain": [
       "<Figure size 640x480 with 1 Axes>"
      ]
     },
     "metadata": {},
     "output_type": "display_data"
    }
   ],
   "source": [
    "plt.plot(train_acc,'-o')\n",
    "plt.plot(val_acc,'-o')\n",
    "plt.xlabel('Epoch')\n",
    "plt.ylabel('Accuracy')\n",
    "plt.legend(['Train Acc','Valid Acc'])\n",
    "plt.title('Train vs. Valid Accuracy')\n",
    "plt.show()"
   ]
  }
 ],
 "metadata": {
  "kernelspec": {
   "display_name": "Python 3",
   "language": "python",
   "name": "python3"
  },
  "language_info": {
   "codemirror_mode": {
    "name": "ipython",
    "version": 3
   },
   "file_extension": ".py",
   "mimetype": "text/x-python",
   "name": "python",
   "nbconvert_exporter": "python",
   "pygments_lexer": "ipython3",
   "version": "3.10.9"
  },
  "orig_nbformat": 4,
  "vscode": {
   "interpreter": {
    "hash": "b0fa6594d8f4cbf19f97940f81e996739fb7646882a419484c72d19e05852a7e"
   }
  }
 },
 "nbformat": 4,
 "nbformat_minor": 2
}
